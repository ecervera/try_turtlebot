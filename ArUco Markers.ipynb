{
 "cells": [
  {
   "cell_type": "code",
   "execution_count": null,
   "metadata": {
    "collapsed": false
   },
   "outputs": [],
   "source": [
    "import rospy\n",
    "from sensor_msgs.msg import Image\n",
    "from aruco_msgs.msg import MarkerArray\n",
    "from cv_bridge import CvBridge, CvBridgeError\n",
    "\n",
    "bridge = CvBridge()"
   ]
  },
  {
   "cell_type": "code",
   "execution_count": null,
   "metadata": {
    "collapsed": false
   },
   "outputs": [],
   "source": [
    "rospy.init_node('turtlebot_markers')"
   ]
  },
  {
   "cell_type": "code",
   "execution_count": null,
   "metadata": {
    "collapsed": true
   },
   "outputs": [],
   "source": [
    "def callback_image(msg):\n",
    "    global marker_img\n",
    "    global marker_timestamp\n",
    "    marker_img_timestamp = msg.header.stamp\n",
    "    marker_img = bridge.imgmsg_to_cv2(msg, \"rgb8\")\n",
    "\n",
    "def callback_array(msg):\n",
    "    global marker_array\n",
    "    global marker_array_timestamp\n",
    "    marker_array_timestamp = msg.header.stamp\n",
    "    marker_array = msg.markers"
   ]
  },
  {
   "cell_type": "code",
   "execution_count": null,
   "metadata": {
    "collapsed": false
   },
   "outputs": [],
   "source": [
    "subscriber_img = rospy.Subscriber(\"/aruco_marker_publisher/result\", Image, callback_image)\n",
    "subscriber_array = rospy.Subscriber(\"/aruco_marker_publisher/markers\", MarkerArray, callback_array)"
   ]
  },
  {
   "cell_type": "code",
   "execution_count": null,
   "metadata": {
    "collapsed": false
   },
   "outputs": [],
   "source": [
    "import matplotlib.pyplot as plt\n",
    "%matplotlib inline"
   ]
  },
  {
   "cell_type": "code",
   "execution_count": null,
   "metadata": {
    "collapsed": false
   },
   "outputs": [],
   "source": [
    "plt.imshow(marker_img);"
   ]
  },
  {
   "cell_type": "code",
   "execution_count": null,
   "metadata": {
    "collapsed": false
   },
   "outputs": [],
   "source": [
    "m = marker_array[0]\n",
    "print(m.id)\n",
    "print(m.pose.pose.position)\n",
    "print(m.pose.pose.orientation)\n",
    "print(m.confidence)"
   ]
  },
  {
   "cell_type": "code",
   "execution_count": null,
   "metadata": {
    "collapsed": false
   },
   "outputs": [],
   "source": [
    "m = marker_array[1]\n",
    "print(m.id)\n",
    "print(m.pose.pose.position)\n",
    "print(m.pose.pose.orientation)\n",
    "print(m.confidence)"
   ]
  },
  {
   "cell_type": "code",
   "execution_count": null,
   "metadata": {
    "collapsed": true
   },
   "outputs": [],
   "source": []
  }
 ],
 "metadata": {
  "kernelspec": {
   "display_name": "Python 2",
   "language": "python",
   "name": "python2"
  },
  "language_info": {
   "codemirror_mode": {
    "name": "ipython",
    "version": 2
   },
   "file_extension": ".py",
   "mimetype": "text/x-python",
   "name": "python",
   "nbconvert_exporter": "python",
   "pygments_lexer": "ipython2",
   "version": "2.7.12"
  }
 },
 "nbformat": 4,
 "nbformat_minor": 0
}
