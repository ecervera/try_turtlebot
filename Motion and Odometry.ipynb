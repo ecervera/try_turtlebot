{
 "cells": [
  {
   "cell_type": "code",
   "execution_count": null,
   "metadata": {
    "collapsed": false
   },
   "outputs": [],
   "source": [
    "import rospy\n",
    "import math\n",
    "\n",
    "from geometry_msgs.msg import Twist\n",
    "from nav_msgs.msg import Odometry"
   ]
  },
  {
   "cell_type": "code",
   "execution_count": null,
   "metadata": {
    "collapsed": false
   },
   "outputs": [],
   "source": [
    "rospy.init_node('turtlebot_controller')"
   ]
  },
  {
   "cell_type": "code",
   "execution_count": null,
   "metadata": {
    "collapsed": true
   },
   "outputs": [],
   "source": [
    "def callback_odom(data):\n",
    "    global x\n",
    "    global y\n",
    "    global theta\n",
    "    position = data.pose.pose.position\n",
    "    orientation = data.pose.pose.orientation\n",
    "    x = round(position.x, 3)\n",
    "    y = round(position.y, 3)\n",
    "    theta = round(2*math.atan2(orientation.z,orientation.w), 3)"
   ]
  },
  {
   "cell_type": "code",
   "execution_count": null,
   "metadata": {
    "collapsed": false
   },
   "outputs": [],
   "source": [
    "subscriber = rospy.Subscriber(\"odom\", Odometry, callback_odom)"
   ]
  },
  {
   "cell_type": "code",
   "execution_count": null,
   "metadata": {
    "collapsed": false
   },
   "outputs": [],
   "source": [
    "publisher = rospy.Publisher('cmd_vel_mux/input/teleop', Twist, queue_size=10)"
   ]
  },
  {
   "cell_type": "code",
   "execution_count": null,
   "metadata": {
    "collapsed": false
   },
   "outputs": [],
   "source": [
    "print (x,y,theta)\n",
    "twist = Twist()\n",
    "twist.linear.x = 0.2\n",
    "twist.angular.z = 0.0\n",
    "r = rospy.Rate(10)\n",
    "for i in range(40):\n",
    "    publisher.publish(twist)\n",
    "    r.sleep()\n",
    "print (x,y,theta)"
   ]
  },
  {
   "cell_type": "code",
   "execution_count": null,
   "metadata": {
    "collapsed": false
   },
   "outputs": [],
   "source": [
    "print (x,y,theta)\n",
    "twist = Twist()\n",
    "twist.linear.x = 0.0\n",
    "twist.angular.z = -0.5\n",
    "r = rospy.Rate(10)\n",
    "for i in range(40):\n",
    "    publisher.publish(twist)\n",
    "    r.sleep()\n",
    "print (x,y,theta)"
   ]
  },
  {
   "cell_type": "code",
   "execution_count": null,
   "metadata": {
    "collapsed": true
   },
   "outputs": [],
   "source": []
  }
 ],
 "metadata": {
  "kernelspec": {
   "display_name": "Python 2",
   "language": "python",
   "name": "python2"
  },
  "language_info": {
   "codemirror_mode": {
    "name": "ipython",
    "version": 2
   },
   "file_extension": ".py",
   "mimetype": "text/x-python",
   "name": "python",
   "nbconvert_exporter": "python",
   "pygments_lexer": "ipython2",
   "version": "2.7.12"
  }
 },
 "nbformat": 4,
 "nbformat_minor": 0
}
